{
 "cells": [
  {
   "cell_type": "code",
   "execution_count": 184,
   "id": "1edd16a5",
   "metadata": {},
   "outputs": [],
   "source": [
    "import pandas as pd\n",
    "import numpy as np\n",
    "import matplotlib as plt\n",
    "import seaborn as sns"
   ]
  },
  {
   "cell_type": "markdown",
   "id": "3ff4c429",
   "metadata": {},
   "source": [
    "Purpose of this notebook is to analyze a car efficiency dataset and apply linear regression"
   ]
  },
  {
   "cell_type": "code",
   "execution_count": 185,
   "id": "ad8bd497",
   "metadata": {},
   "outputs": [
    {
     "name": "stdout",
     "output_type": "stream",
     "text": [
      "   engine_displacement  num_cylinders  horsepower  vehicle_weight  \\\n",
      "0                  170            3.0       159.0     3413.433759   \n",
      "1                  130            5.0        97.0     3149.664934   \n",
      "2                  170            NaN        78.0     3079.038997   \n",
      "3                  220            4.0         NaN     2542.392402   \n",
      "4                  210            1.0       140.0     3460.870990   \n",
      "\n",
      "   acceleration  model_year  origin fuel_type         drivetrain  num_doors  \\\n",
      "0          17.7        2003  Europe  Gasoline    All-wheel drive        0.0   \n",
      "1          17.8        2007     USA  Gasoline  Front-wheel drive        0.0   \n",
      "2          15.1        2018  Europe  Gasoline  Front-wheel drive        0.0   \n",
      "3          20.2        2009     USA    Diesel    All-wheel drive        2.0   \n",
      "4          14.4        2009  Europe  Gasoline    All-wheel drive        2.0   \n",
      "\n",
      "   fuel_efficiency_mpg  \n",
      "0            13.231729  \n",
      "1            13.688217  \n",
      "2            14.246341  \n",
      "3            16.912736  \n",
      "4            12.488369  \n"
     ]
    }
   ],
   "source": [
    "url =  \"https://raw.githubusercontent.com/alexeygrigorev/datasets/master/car_fuel_efficiency.csv\"\n",
    "\n",
    "df = pd.read_csv(url)\n",
    "\n",
    "print(df.head())"
   ]
  },
  {
   "cell_type": "code",
   "execution_count": 186,
   "id": "cb2bf5cd",
   "metadata": {},
   "outputs": [
    {
     "data": {
      "text/plain": [
       "<Axes: xlabel='fuel_efficiency_mpg', ylabel='Count'>"
      ]
     },
     "execution_count": 186,
     "metadata": {},
     "output_type": "execute_result"
    },
    {
     "data": {
      "image/png": "[encoded data removed]",
      "text/plain": [
       "<Figure size 640x480 with 1 Axes>"
      ]
     },
     "metadata": {},
     "output_type": "display_data"
    }
   ],
   "source": [
    "sns.histplot(df['fuel_efficiency_mpg'], bins=60)"
   ]
  },
  {
   "cell_type": "code",
   "execution_count": 187,
   "id": "08595b6c",
   "metadata": {},
   "outputs": [
    {
     "data": {
      "text/html": [
       "<div>\n",
       "<style scoped>\n",
       "    .dataframe tbody tr th:only-of-type {\n",
       "        vertical-align: middle;\n",
       "    }\n",
       "\n",
       "    .dataframe tbody tr th {\n",
       "        vertical-align: top;\n",
       "    }\n",
       "\n",
       "    .dataframe thead th {\n",
       "        text-align: right;\n",
       "    }\n",
       "</style>\n",
       "<table border=\"1\" class=\"dataframe\">\n",
       "  <thead>\n",
       "    <tr style=\"text-align: right;\">\n",
       "      <th></th>\n",
       "      <th>engine_displacement</th>\n",
       "      <th>horsepower</th>\n",
       "      <th>vehicle_weight</th>\n",
       "      <th>model_year</th>\n",
       "      <th>fuel_efficiency_mpg</th>\n",
       "    </tr>\n",
       "  </thead>\n",
       "  <tbody>\n",
       "    <tr>\n",
       "      <th>0</th>\n",
       "      <td>170</td>\n",
       "      <td>159.0</td>\n",
       "      <td>3413.433759</td>\n",
       "      <td>2003</td>\n",
       "      <td>13.231729</td>\n",
       "    </tr>\n",
       "    <tr>\n",
       "      <th>1</th>\n",
       "      <td>130</td>\n",
       "      <td>97.0</td>\n",
       "      <td>3149.664934</td>\n",
       "      <td>2007</td>\n",
       "      <td>13.688217</td>\n",
       "    </tr>\n",
       "    <tr>\n",
       "      <th>2</th>\n",
       "      <td>170</td>\n",
       "      <td>78.0</td>\n",
       "      <td>3079.038997</td>\n",
       "      <td>2018</td>\n",
       "      <td>14.246341</td>\n",
       "    </tr>\n",
       "    <tr>\n",
       "      <th>3</th>\n",
       "      <td>220</td>\n",
       "      <td>NaN</td>\n",
       "      <td>2542.392402</td>\n",
       "      <td>2009</td>\n",
       "      <td>16.912736</td>\n",
       "    </tr>\n",
       "    <tr>\n",
       "      <th>4</th>\n",
       "      <td>210</td>\n",
       "      <td>140.0</td>\n",
       "      <td>3460.870990</td>\n",
       "      <td>2009</td>\n",
       "      <td>12.488369</td>\n",
       "    </tr>\n",
       "  </tbody>\n",
       "</table>\n",
       "</div>"
      ],
      "text/plain": [
       "   engine_displacement  horsepower  vehicle_weight  model_year  \\\n",
       "0                  170       159.0     3413.433759        2003   \n",
       "1                  130        97.0     3149.664934        2007   \n",
       "2                  170        78.0     3079.038997        2018   \n",
       "3                  220         NaN     2542.392402        2009   \n",
       "4                  210       140.0     3460.870990        2009   \n",
       "\n",
       "   fuel_efficiency_mpg  \n",
       "0            13.231729  \n",
       "1            13.688217  \n",
       "2            14.246341  \n",
       "3            16.912736  \n",
       "4            12.488369  "
      ]
     },
     "execution_count": 187,
     "metadata": {},
     "output_type": "execute_result"
    }
   ],
   "source": [
    "features = ['engine_displacement', 'horsepower', 'vehicle_weight', 'model_year','fuel_efficiency_mpg']\n",
    "df_new = df[features]\n",
    "\n",
    "df_new.head()"
   ]
  },
  {
   "cell_type": "code",
   "execution_count": 188,
   "id": "19802d2b",
   "metadata": {},
   "outputs": [
    {
     "data": {
      "text/plain": [
       "engine_displacement      0\n",
       "horsepower             708\n",
       "vehicle_weight           0\n",
       "model_year               0\n",
       "fuel_efficiency_mpg      0\n",
       "dtype: int64"
      ]
     },
     "execution_count": 188,
     "metadata": {},
     "output_type": "execute_result"
    }
   ],
   "source": [
    "df_new.isnull().sum()\n",
    "#Horsepower has null values\n"
   ]
  },
  {
   "cell_type": "code",
   "execution_count": 189,
   "id": "b90f462f",
   "metadata": {},
   "outputs": [
    {
     "data": {
      "text/plain": [
       "np.float64(149.0)"
      ]
     },
     "execution_count": 189,
     "metadata": {},
     "output_type": "execute_result"
    }
   ],
   "source": [
    "median_hp = df_new['horsepower'].median()\n",
    "median_hp\n"
   ]
  },
  {
   "cell_type": "code",
   "execution_count": 190,
   "id": "074e770e",
   "metadata": {},
   "outputs": [
    {
     "data": {
      "text/plain": [
       "(9704, 9704)"
      ]
     },
     "execution_count": 190,
     "metadata": {},
     "output_type": "execute_result"
    }
   ],
   "source": [
    "np.random.seed(0)\n",
    "\n",
    "n = len(df_new)\n",
    "\n",
    "n_val = int(n *0.2)\n",
    "n_test = int(n *0.2)\n",
    "n_train = n - n_val - n_test\n",
    "\n",
    "n_val, n_test, n_train\n",
    "\n",
    "n, n_val+ n_test+ n_train"
   ]
  },
  {
   "cell_type": "code",
   "execution_count": 191,
   "id": "12583e3b",
   "metadata": {},
   "outputs": [
    {
     "data": {
      "text/plain": [
       "array([6146, 3410,  272, ..., 4859, 3264, 2732], shape=(9704,))"
      ]
     },
     "execution_count": 191,
     "metadata": {},
     "output_type": "execute_result"
    }
   ],
   "source": [
    "idx = np.arange(n)\n",
    "np.random.shuffle(idx)\n",
    "idx"
   ]
  },
  {
   "cell_type": "code",
   "execution_count": 192,
   "id": "e71a23db",
   "metadata": {},
   "outputs": [
    {
     "data": {
      "text/plain": [
       "(5824, 1940, 1940, 9704)"
      ]
     },
     "execution_count": 192,
     "metadata": {},
     "output_type": "execute_result"
    }
   ],
   "source": [
    "df_train = df_new.iloc[idx[:n_train]]\n",
    "df_val = df_new.iloc[idx[n_train:n_train+n_val]]\n",
    "df_test = df_new.iloc[idx[n_train + n_val:]]\n",
    "\n",
    "len(df_train), len(df_val), len(df_test), len(df_train + df_val + df_test)"
   ]
  },
  {
   "cell_type": "code",
   "execution_count": 193,
   "id": "2936fde8",
   "metadata": {},
   "outputs": [],
   "source": [
    "df_train_copy = df_train.copy()\n",
    "df_val_copy = df_val.copy()\n",
    "df_test_copy = df_test.copy()\n",
    "\n",
    "y_train = df_train_copy.fuel_efficiency_mpg.values\n",
    "y_val = df_val_copy.fuel_efficiency_mpg.values\n",
    "y_test = df_test_copy.fuel_efficiency_mpg.values\n",
    "\n"
   ]
  },
  {
   "cell_type": "code",
   "execution_count": 194,
   "id": "9bcc7af3",
   "metadata": {},
   "outputs": [
    {
     "data": {
      "text/plain": [
       "(array([14.55158225, 18.69533244, 18.90935401, ..., 14.54442871,\n",
       "        17.23569833, 14.52465491], shape=(1940,)),\n",
       " array([17.81761862, 15.03199346, 12.34653235, ..., 17.56179153,\n",
       "        19.55437001, 10.97691894], shape=(5824,)),\n",
       " array([17.03649929, 10.59334654, 12.57038257, ..., 15.47842521,\n",
       "        15.82587501, 15.19168169], shape=(1940,)))"
      ]
     },
     "execution_count": 194,
     "metadata": {},
     "output_type": "execute_result"
    }
   ],
   "source": [
    "y_test, y_train, y_val"
   ]
  },
  {
   "cell_type": "code",
   "execution_count": 195,
   "id": "b811b3cd",
   "metadata": {},
   "outputs": [],
   "source": [
    "del df_train['fuel_efficiency_mpg']\n",
    "del df_val['fuel_efficiency_mpg']\n",
    "del df_test['fuel_efficiency_mpg']"
   ]
  },
  {
   "cell_type": "code",
   "execution_count": 196,
   "id": "25c0b477",
   "metadata": {},
   "outputs": [],
   "source": [
    "def train_linear_regression(X, y):\n",
    "    \n",
    "    ones = np.ones(X.shape[0])\n",
    "    X = np.column_stack([ones, X])\n",
    "    XTX = X.T.dot(X)\n",
    "    XTX_inv = np.linalg.inv(XTX)\n",
    "    w_full = XTX_inv.dot(X.T).dot(y)\n",
    "    \n",
    "    return w_full[0], w_full[1:]"
   ]
  },
  {
   "cell_type": "code",
   "execution_count": 197,
   "id": "164677c4",
   "metadata": {},
   "outputs": [],
   "source": [
    "def prepare_X(df):\n",
    "    \n",
    "    df_num = df.copy()\n",
    "    df_num = df_num.fillna(0)\n",
    "    X = df_num.values\n",
    "    return X\n",
    "\n",
    "def prepare_X_mean(df):\n",
    "    \n",
    "    df_num = df.copy()\n",
    "    mean_value = df['horsepower'].mean()\n",
    "    df_num = df_num.fillna(mean_value)\n",
    "    X = df_num.values\n",
    "    return X"
   ]
  },
  {
   "cell_type": "code",
   "execution_count": 198,
   "id": "14d8f1da",
   "metadata": {},
   "outputs": [],
   "source": [
    "def rmse(y, y_pred):\n",
    "    se = (y - y_pred) **2\n",
    "    mse = se.mean()\n",
    "    rmse = np.sqrt(mse)\n",
    "    \n",
    "    return rmse"
   ]
  },
  {
   "cell_type": "code",
   "execution_count": 199,
   "id": "9248151d",
   "metadata": {},
   "outputs": [
    {
     "data": {
      "text/plain": [
       "np.float64(0.52)"
      ]
     },
     "execution_count": 199,
     "metadata": {},
     "output_type": "execute_result"
    }
   ],
   "source": [
    "X_train_with_0 = prepare_X(df_train)\n",
    "w0, w = train_linear_regression(X_train_with_0, y_train)\n",
    "\n",
    "X_val = prepare_X(df_val)\n",
    "\n",
    "y_pred = w0 + X_val.dot(w)\n",
    "\n",
    "score_with_0 = rmse(y_val, y_pred)\n",
    "round(score_with_0, 2)\n",
    "\n",
    "\n",
    "\n"
   ]
  },
  {
   "cell_type": "code",
   "execution_count": 200,
   "id": "830106ee",
   "metadata": {},
   "outputs": [
    {
     "data": {
      "text/plain": [
       "np.float64(0.61)"
      ]
     },
     "execution_count": 200,
     "metadata": {},
     "output_type": "execute_result"
    }
   ],
   "source": [
    "X_train_with_mean =  prepare_X_mean(df_train)\n",
    "\n",
    "w0, w = train_linear_regression(X_train_with_mean, y_train)\n",
    "\n",
    "X_val = prepare_X(df_val)\n",
    "\n",
    "y_pred = w0 + X_val.dot(w)\n",
    "\n",
    "score_with_mean = rmse(y_val, y_pred)\n",
    "round(score_with_mean,2)"
   ]
  },
  {
   "cell_type": "code",
   "execution_count": 201,
   "id": "8c3d7533",
   "metadata": {},
   "outputs": [
    {
     "data": {
      "text/plain": [
       "0    0\n",
       "1    0\n",
       "2    0\n",
       "3    0\n",
       "dtype: int64"
      ]
     },
     "execution_count": 201,
     "metadata": {},
     "output_type": "execute_result"
    }
   ],
   "source": [
    "#Test make sure there no null values\n",
    "X_df = pd.DataFrame(X_train_with_mean)\n",
    "X_df.isna().sum()"
   ]
  },
  {
   "cell_type": "code",
   "execution_count": 202,
   "id": "5ae12d63",
   "metadata": {},
   "outputs": [],
   "source": [
    "def train_linear_regression_regularization(X, y, r):\n",
    "    \n",
    "    ones = np.ones(X.shape[0])\n",
    "    X = np.column_stack([ones, X])\n",
    "    \n",
    "    XTX = X.T.dot(X)\n",
    "    XTX = XTX + r * np.eye(XTX.shape[0])\n",
    "   \n",
    "    XTX_inv = np.linalg.inv(XTX)\n",
    "    w_full = XTX_inv.dot(X.T).dot(y)\n",
    "    \n",
    "    return w_full[0], w_full[1:]"
   ]
  },
  {
   "cell_type": "code",
   "execution_count": 203,
   "id": "a83b17bd",
   "metadata": {},
   "outputs": [],
   "source": [
    "reg = [0.0, 0.01, 0.1, 1, 5, 10, 100]"
   ]
  },
  {
   "cell_type": "code",
   "execution_count": 204,
   "id": "a96b7293",
   "metadata": {},
   "outputs": [
    {
     "name": "stdout",
     "output_type": "stream",
     "text": [
      "0.5206531296294218\n",
      "0.5207452844954418\n",
      "0.5232625264335329\n",
      "0.5269999205391234\n",
      "0.5276696330152039\n",
      "0.5277605947940545\n",
      "0.5278439857392418\n"
     ]
    }
   ],
   "source": [
    "for r in reg:\n",
    "    X_train_with_0 = prepare_X(df_train)\n",
    "    w0, w = train_linear_regression_regularization(X_train_with_0, y_train, r=r)\n",
    "\n",
    "    X_val = prepare_X(df_val)\n",
    "\n",
    "    y_pred = w0 + X_val.dot(w)\n",
    "\n",
    "    reg_score_with_0 = rmse(y_val, y_pred)\n",
    "    print(reg_score_with_0)\n"
   ]
  },
  {
   "cell_type": "code",
   "execution_count": 205,
   "id": "91227c10",
   "metadata": {},
   "outputs": [],
   "source": [
    "seed_values = [0, 1, 2, 3, 4, 5, 6, 7, 8, 9, 42]"
   ]
  },
  {
   "cell_type": "code",
   "execution_count": 206,
   "id": "9fb02d50",
   "metadata": {},
   "outputs": [
    {
     "name": "stdout",
     "output_type": "stream",
     "text": [
      "0.5206531296294218\n",
      "0.521338891285577\n",
      "0.5228069974803171\n",
      "0.515951674119676\n",
      "0.5109129460053851\n",
      "0.52834064601107\n",
      "0.5313910658146311\n",
      "0.5090670387381733\n",
      "0.5147399129511132\n",
      "0.5131865908224594\n",
      "0.5173782638844466\n"
     ]
    }
   ],
   "source": [
    "#Testing model with multiple seed values\n",
    "for v in seed_values:\n",
    "    np.random.seed(v)  \n",
    "    idx = np.arange(n)\n",
    "    np.random.shuffle(idx)\n",
    "\n",
    "    df_train = df_new.iloc[idx[:n_train]]\n",
    "    df_val = df_new.iloc[idx[n_train:n_train+n_val]]\n",
    "    df_test = df_new.iloc[idx[n_train + n_val:]]\n",
    "\n",
    "    df_train_copy = df_train.copy()\n",
    "    df_val_copy = df_val.copy()\n",
    "    df_test_copy = df_test.copy()\n",
    "\n",
    "    y_train = df_train_copy.fuel_efficiency_mpg.values\n",
    "    y_val = df_val_copy.fuel_efficiency_mpg.values\n",
    "    y_test = df_test_copy.fuel_efficiency_mpg.values\n",
    "\n",
    "    del df_train['fuel_efficiency_mpg']\n",
    "    del df_val['fuel_efficiency_mpg']\n",
    "    del df_test['fuel_efficiency_mpg']\n",
    "\n",
    "    X_train_with_0 = prepare_X(df_train)\n",
    "    w0, w = train_linear_regression(X_train_with_0, y_train)\n",
    "\n",
    "    X_val = prepare_X(df_val)\n",
    "\n",
    "    y_pred = w0 + X_val.dot(w)\n",
    "\n",
    "    score_with_0 = rmse(y_val, y_pred)\n",
    "    print(score_with_0)"
   ]
  },
  {
   "cell_type": "code",
   "execution_count": 207,
   "id": "884c7025",
   "metadata": {},
   "outputs": [
    {
     "data": {
      "text/plain": [
       "np.float64(0.0066773912446372145)"
      ]
     },
     "execution_count": 207,
     "metadata": {},
     "output_type": "execute_result"
    }
   ],
   "source": [
    "std = np.std([0.5206531296294218,\n",
    "0.521338891285577,\n",
    "0.5228069974803171,\n",
    "0.515951674119676,\n",
    "0.5109129460053851,\n",
    "0.52834064601107,\n",
    "0.5313910658146311,\n",
    "0.5090670387381733,\n",
    "0.5147399129511132,\n",
    "0.513186590822459, 0.5173782638844466])\n",
    "std"
   ]
  },
  {
   "cell_type": "code",
   "execution_count": 208,
   "id": "685bf915",
   "metadata": {},
   "outputs": [],
   "source": [
    "np.random.seed(9)  \n",
    "idx = np.arange(n)\n",
    "np.random.shuffle(idx)\n",
    "\n",
    "df_train = df_new.iloc[idx[:n_train]]\n",
    "df_val = df_new.iloc[idx[n_train:n_train+n_val]]\n",
    "df_test = df_new.iloc[idx[n_train + n_val:]]\n",
    "\n",
    "df_train_copy = df_train.copy()\n",
    "df_val_copy = df_val.copy()\n",
    "df_test_copy = df_test.copy()\n",
    "\n",
    "y_train = df_train_copy.fuel_efficiency_mpg.values\n",
    "y_val = df_val_copy.fuel_efficiency_mpg.values\n",
    "y_test = df_test_copy.fuel_efficiency_mpg.values\n",
    "\n",
    "del df_train['fuel_efficiency_mpg']\n",
    "del df_val['fuel_efficiency_mpg']\n",
    "del df_test['fuel_efficiency_mpg']\n",
    "\n",
    "df_full_train = pd.concat([df_train, df_val])\n",
    "y_full_train = np.concatenate([y_train, y_val])\n"
   ]
  },
  {
   "cell_type": "code",
   "execution_count": 210,
   "id": "5dadfa54",
   "metadata": {},
   "outputs": [
    {
     "data": {
      "text/plain": [
       "np.float64(0.516)"
      ]
     },
     "execution_count": 210,
     "metadata": {},
     "output_type": "execute_result"
    }
   ],
   "source": [
    "X_train_full_with_0 = prepare_X(df_full_train)\n",
    "w0, w = train_linear_regression_regularization(X_train_full_with_0, y_full_train, r=0.001)\n",
    "\n",
    "X_val = prepare_X(df_test)\n",
    "\n",
    "y_pred = w0 + X_val.dot(w)\n",
    "\n",
    "score_with_0 = rmse(y_test, y_pred)\n",
    "round(score_with_0,3)"
   ]
  }
 ],
 "metadata": {
  "kernelspec": {
   "display_name": "Python 3",
   "language": "python",
   "name": "python3"
  },
  "language_info": {
   "codemirror_mode": {
    "name": "ipython",
    "version": 3
   },
   "file_extension": ".py",
   "mimetype": "text/x-python",
   "name": "python",
   "nbconvert_exporter": "python",
   "pygments_lexer": "ipython3",
   "version": "3.12.1"
  }
 },
 "nbformat": 4,
 "nbformat_minor": 5
}
