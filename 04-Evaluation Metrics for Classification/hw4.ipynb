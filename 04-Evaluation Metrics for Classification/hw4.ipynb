{
 "cells": [
  {
   "cell_type": "code",
   "execution_count": 396,
   "id": "ff3b1a8a",
   "metadata": {},
   "outputs": [],
   "source": [
    "import numpy as np\n",
    "import pandas as pd\n",
    "import matplotlib.pyplot as plt\n",
    "from sklearn.model_selection import train_test_split\n",
    "from sklearn.feature_extraction import DictVectorizer\n",
    "from sklearn.linear_model import LogisticRegression\n",
    "from sklearn.metrics import auc\n",
    "from sklearn.metrics import roc_auc_score\n",
    "from sklearn.model_selection import KFold"
   ]
  },
  {
   "cell_type": "code",
   "execution_count": 397,
   "id": "32d0ceff",
   "metadata": {},
   "outputs": [],
   "source": [
    "df = pd.read_csv('/workspaces/ml-zoomcamp-hw/04-Evaluation Metrics for Classification/course_lead_scoring.csv')"
   ]
  },
  {
   "cell_type": "code",
   "execution_count": 398,
   "id": "4c99f778",
   "metadata": {},
   "outputs": [
    {
     "data": {
      "text/plain": [
       "lead_source                 128\n",
       "industry                    134\n",
       "number_of_courses_viewed      0\n",
       "annual_income               181\n",
       "employment_status           100\n",
       "location                     63\n",
       "interaction_count             0\n",
       "lead_score                    0\n",
       "converted                     0\n",
       "dtype: int64"
      ]
     },
     "execution_count": 398,
     "metadata": {},
     "output_type": "execute_result"
    }
   ],
   "source": [
    "df.isnull().sum()"
   ]
  },
  {
   "cell_type": "code",
   "execution_count": 399,
   "id": "21834be1",
   "metadata": {},
   "outputs": [],
   "source": [
    "df.dtypes\n",
    "categorical = ['lead_source', 'industry', 'employment_status', 'location']\n",
    "numerical = ['number_of_courses_viewed', 'annual_income','interaction_count','lead_score']"
   ]
  },
  {
   "cell_type": "code",
   "execution_count": 400,
   "id": "1626c81e",
   "metadata": {},
   "outputs": [],
   "source": [
    "df[categorical] = df[categorical].fillna('NA')\n",
    "df[numerical] = df[numerical].fillna(0)"
   ]
  },
  {
   "cell_type": "code",
   "execution_count": 401,
   "id": "30739a16",
   "metadata": {},
   "outputs": [
    {
     "data": {
      "text/plain": [
       "lead_source                 0\n",
       "industry                    0\n",
       "number_of_courses_viewed    0\n",
       "annual_income               0\n",
       "employment_status           0\n",
       "location                    0\n",
       "interaction_count           0\n",
       "lead_score                  0\n",
       "converted                   0\n",
       "dtype: int64"
      ]
     },
     "execution_count": 401,
     "metadata": {},
     "output_type": "execute_result"
    }
   ],
   "source": [
    "df.isnull().sum()"
   ]
  },
  {
   "cell_type": "code",
   "execution_count": 402,
   "id": "1315999d",
   "metadata": {},
   "outputs": [
    {
     "data": {
      "text/plain": [
       "lead_source                  object\n",
       "industry                     object\n",
       "number_of_courses_viewed      int64\n",
       "annual_income               float64\n",
       "employment_status            object\n",
       "location                     object\n",
       "interaction_count             int64\n",
       "lead_score                  float64\n",
       "converted                     int64\n",
       "dtype: object"
      ]
     },
     "execution_count": 402,
     "metadata": {},
     "output_type": "execute_result"
    }
   ],
   "source": [
    "\n",
    "df_full_train, df_test = train_test_split(df, test_size=.2, random_state=1)\n",
    "df_train, df_val = train_test_split(df_full_train,test_size=0.25, random_state=1 )\n",
    "df_train.dtypes"
   ]
  },
  {
   "cell_type": "code",
   "execution_count": 403,
   "id": "b5c17d3f",
   "metadata": {},
   "outputs": [
    {
     "data": {
      "text/plain": [
       "{'number_of_courses_viewed': 0.7635680590007088,\n",
       " 'annual_income': 0.5519578313253012,\n",
       " 'interaction_count': 0.738270176293409,\n",
       " 'lead_score': 0.6144993577250176}"
      ]
     },
     "execution_count": 403,
     "metadata": {},
     "output_type": "execute_result"
    }
   ],
   "source": [
    "auc_score = {}\n",
    "y = df_train['converted']\n",
    "for n in numerical:\n",
    "    auc_value = roc_auc_score(y, df_train[n])\n",
    "    \n",
    "    auc_score[n] = auc_value\n",
    "\n",
    "\n",
    "auc_score    "
   ]
  },
  {
   "cell_type": "code",
   "execution_count": 404,
   "id": "a0a25866",
   "metadata": {},
   "outputs": [
    {
     "data": {
      "text/plain": [
       "np.float64(0.6996587030716723)"
      ]
     },
     "execution_count": 404,
     "metadata": {},
     "output_type": "execute_result"
    }
   ],
   "source": [
    "dv = DictVectorizer()\n",
    "train_dict = df_train[categorical + numerical].to_dict(orient='records')\n",
    "X_train = dv.fit_transform(train_dict)\n",
    "y_train = df_train.converted.values\n",
    "y_val = df_val.converted.values\n",
    "\n",
    "\n",
    "\n",
    "model = LogisticRegression(solver='liblinear', C=1.0, max_iter=1000)\n",
    "model.fit(X_train, y_train)\n",
    "\n",
    "val_dict = df_val[categorical + numerical].to_dict(orient='records')\n",
    "X_val = dv.transform(val_dict)\n",
    "\n",
    "y_pred = model.predict_proba(X_val)[:, 1]\n",
    "\n",
    "converted_decision = (y_pred >= 0.5)\n",
    "(y_val == converted_decision).mean()"
   ]
  },
  {
   "cell_type": "code",
   "execution_count": 405,
   "id": "58e312b1",
   "metadata": {},
   "outputs": [
    {
     "data": {
      "text/plain": [
       "0.8171316268814112"
      ]
     },
     "execution_count": 405,
     "metadata": {},
     "output_type": "execute_result"
    }
   ],
   "source": [
    "auc = roc_auc_score(y_val, y_pred)\n",
    "auc\n",
    "\n"
   ]
  },
  {
   "cell_type": "markdown",
   "id": "e08eff48",
   "metadata": {},
   "source": [
    "Recall = TP/TP+FN\n",
    "Recall is the same as TPR\n",
    "Of all the actual positives, how many did we correctly identify? \n",
    "\n",
    "Precision = TP/ TP + FP   \n",
    "Of all the predicted positives, how many were actually positive?\n"
   ]
  },
  {
   "cell_type": "code",
   "execution_count": 406,
   "id": "f38cb0c5",
   "metadata": {},
   "outputs": [],
   "source": [
    "actual_postive = (y_val == 1)\n",
    "actual_negative = (y_val ==0)"
   ]
  },
  {
   "cell_type": "code",
   "execution_count": 407,
   "id": "2affd2f5",
   "metadata": {},
   "outputs": [],
   "source": [
    "t = 0.5\n",
    "predict_positive = (y_pred >=t)\n",
    "predict_negative = (y_pred < t)"
   ]
  },
  {
   "cell_type": "code",
   "execution_count": 408,
   "id": "d45f273d",
   "metadata": {},
   "outputs": [],
   "source": [
    "tp = (predict_positive & actual_postive).sum()\n",
    "fp = (predict_positive & actual_negative).sum()\n",
    "\n",
    "tn = (predict_negative & actual_negative).sum()\n",
    "fn = (predict_negative & actual_postive).sum()"
   ]
  },
  {
   "cell_type": "code",
   "execution_count": 409,
   "id": "c171020e",
   "metadata": {},
   "outputs": [
    {
     "data": {
      "image/png": "[encoded data removed]",
      "text/plain": [
       "<Figure size 600x600 with 1 Axes>"
      ]
     },
     "metadata": {},
     "output_type": "display_data"
    }
   ],
   "source": [
    "from sklearn.metrics import precision_recall_curve\n",
    "\n",
    "precision, recall, thresholds = precision_recall_curve(y_val, y_pred)\n",
    "\n",
    "plt.figure(figsize=(6,6))\n",
    "plt.plot(recall, precision, label='Precision–Recall curve')\n",
    "plt.xlabel('Recall (TPR)')\n",
    "plt.ylabel('Precision')\n",
    "plt.title('Precision–Recall Curve with Thresholds')\n",
    "plt.grid(True)\n",
    "\n",
    "# thresholds has length len(precision)-1; align labels at recall[1:], precision[1:]\n",
    "idxs = np.linspace(0, len(thresholds)-1, num=min(10, len(thresholds))).astype(int)\n",
    "for i in idxs:\n",
    "    plt.text(recall[i+1], precision[i+1], f'{thresholds[i]:.2f}', fontsize=8)\n",
    "\n",
    "plt.legend()\n",
    "plt.show()"
   ]
  },
  {
   "cell_type": "code",
   "execution_count": 410,
   "id": "cf0609b1",
   "metadata": {},
   "outputs": [
    {
     "data": {
      "text/plain": [
       "np.float64(0.644)"
      ]
     },
     "execution_count": 410,
     "metadata": {},
     "output_type": "execute_result"
    }
   ],
   "source": [
    "diff = np.abs(precision[:-1] - recall[:-1])\n",
    "best_idx = diff.argmin()\n",
    "\n",
    "\n",
    "best_threshold = thresholds[best_idx]\n",
    "round(best_threshold, 3)"
   ]
  },
  {
   "cell_type": "code",
   "execution_count": 411,
   "id": "07a15cfe",
   "metadata": {},
   "outputs": [
    {
     "data": {
      "text/plain": [
       "np.float64(0.0)"
      ]
     },
     "execution_count": 411,
     "metadata": {},
     "output_type": "execute_result"
    }
   ],
   "source": [
    "diff[best_idx]"
   ]
  },
  {
   "cell_type": "code",
   "execution_count": 412,
   "id": "6b4fa27b",
   "metadata": {},
   "outputs": [
    {
     "data": {
      "text/plain": [
       "(0.8125, np.float64(0.5700000000000001))"
      ]
     },
     "execution_count": 412,
     "metadata": {},
     "output_type": "execute_result"
    }
   ],
   "source": [
    "from sklearn.metrics import f1_score\n",
    "\n",
    "f1_thresholds = np.linspace(0, 1, 101)\n",
    "\n",
    "best_f1 = 0\n",
    "best_thr = 0\n",
    "\n",
    "for t in f1_thresholds:\n",
    "    y_pred_bin =(y_pred >= t).astype(int)\n",
    "    score = f1_score(y_val, y_pred_bin)\n",
    "    \n",
    "    if score > best_f1:\n",
    "        best_f1 = score\n",
    "        best_thr = t\n",
    "        \n",
    "        \n",
    "best_f1, best_thr\n"
   ]
  },
  {
   "cell_type": "code",
   "execution_count": 413,
   "id": "67c531d9",
   "metadata": {},
   "outputs": [
    {
     "data": {
      "text/plain": [
       "np.float64(0.03580711942905165)"
      ]
     },
     "execution_count": 413,
     "metadata": {},
     "output_type": "execute_result"
    }
   ],
   "source": [
    "model = LogisticRegression(solver='liblinear', C=1.0, max_iter=1000)\n",
    "\n",
    "kfold = KFold(n_splits=5, shuffle=True, random_state=1)\n",
    "\n",
    "auc_scores =  []\n",
    "\n",
    "for train_idx, val_idx in kfold.split(df_full_train):\n",
    "    \n",
    "    df_train = df_full_train.iloc[train_idx].copy()\n",
    "    df_val   = df_full_train.iloc[val_idx].copy()\n",
    "\n",
    "    y_train = df_train['converted'].values\n",
    "    y_val   = df_val['converted'].values\n",
    "\n",
    "    \n",
    "    train_dicts = df_train[categorical + numerical].to_dict(orient='records')\n",
    "    val_dicts   = df_val[categorical + numerical].to_dict(orient='records')\n",
    "\n",
    "  \n",
    "    dv = DictVectorizer(sparse=False)\n",
    "    X_train = dv.fit_transform(train_dicts)\n",
    "    X_val   = dv.transform(val_dicts)\n",
    "\n",
    "    model.fit(X_train, y_train)\n",
    "\n",
    "    # Predict & score\n",
    "    y_pred = model.predict_proba(X_val)[:, 1]\n",
    "    auc = roc_auc_score(y_val, y_pred)\n",
    "    auc_scores.append(auc)\n",
    "\n",
    "auc_scores = np.array(auc_scores)\n",
    "std_auc = auc_scores.std()\n",
    "std_auc"
   ]
  },
  {
   "cell_type": "code",
   "execution_count": 414,
   "id": "7e946797",
   "metadata": {},
   "outputs": [
    {
     "name": "stdout",
     "output_type": "stream",
     "text": [
      "C=1e-06: mean AUC=0.5600, std=0.0240\n",
      "C=0.001: mean AUC=0.8670, std=0.0290\n",
      "C=1: mean AUC=0.8220, std=0.0360\n",
      "\n",
      "Best C value: 0.001\n"
     ]
    }
   ],
   "source": [
    "c = [0.000001, 0.001, 1]\n",
    "\n",
    "results = {}\n",
    "\n",
    "for c in c:\n",
    "    kfold = KFold(n_splits=5, shuffle=True, random_state=1)\n",
    "    model = LogisticRegression(solver='liblinear', C=c, max_iter=1000)\n",
    "    \n",
    "    auc_scores = []\n",
    "    \n",
    "    for train_idx, val_idx in kfold.split(df_full_train):\n",
    "        \n",
    "        df_train = df_full_train.iloc[train_idx].copy()\n",
    "        df_val   = df_full_train.iloc[val_idx].copy()\n",
    "\n",
    "        y_train = df_train['converted'].values\n",
    "        y_val   = df_val['converted'].values\n",
    "\n",
    "        \n",
    "        train_dicts = df_train[categorical + numerical].to_dict(orient='records')\n",
    "        val_dicts   = df_val[categorical + numerical].to_dict(orient='records')\n",
    "\n",
    "    \n",
    "        dv = DictVectorizer(sparse=False)\n",
    "        X_train = dv.fit_transform(train_dicts)\n",
    "        X_val   = dv.transform(val_dicts)\n",
    "\n",
    "        model.fit(X_train, y_train)\n",
    "\n",
    "        # Predict & score\n",
    "        y_pred = model.predict_proba(X_val)[:, 1]\n",
    "        auc = roc_auc_score(y_val, y_pred)\n",
    "        auc_scores.append(auc)\n",
    "    \n",
    "    results[c] = {\n",
    "        'mean_auc': round(np.mean(auc_scores),3),\n",
    "        'std_auc': round(np.std(auc_scores),3)\n",
    "    }\n",
    "\n",
    "\n",
    "for c, vals in results.items():\n",
    "    print(f\"C={c}: mean AUC={vals['mean_auc']:.4f}, std={vals['std_auc']:.4f}\")\n",
    "    \n",
    "best_C = max(results, key=lambda k: results[k]['mean_auc'])\n",
    "print(f\"\\nBest C value: {best_C}\")"
   ]
  }
 ],
 "metadata": {
  "kernelspec": {
   "display_name": "Python 3",
   "language": "python",
   "name": "python3"
  },
  "language_info": {
   "codemirror_mode": {
    "name": "ipython",
    "version": 3
   },
   "file_extension": ".py",
   "mimetype": "text/x-python",
   "name": "python",
   "nbconvert_exporter": "python",
   "pygments_lexer": "ipython3",
   "version": "3.12.1"
  }
 },
 "nbformat": 4,
 "nbformat_minor": 5
}
